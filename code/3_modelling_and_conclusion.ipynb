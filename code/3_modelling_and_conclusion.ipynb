{
 "cells": [
  {
   "cell_type": "markdown",
   "metadata": {},
   "source": [
    "# Project 4 West-Nile Virus Prediction"
   ]
  },
  {
   "cell_type": "markdown",
   "metadata": {},
   "source": [
    "In this notebook, we performed model prepping, feature selection, modeling, model evaluation and cost benefit analysis\n",
    "\n",
    "### Contents:\n",
    "- [Import Libraries and Load Data](#Import-Libraries-and-Load-Data)\n",
    "- [Prepare Data](#Prepare-Data)\n",
    "- [Feature Selection](#Feature-Selection)\n",
    "- [Model Prepping](#Model-Prepping)\n",
    "- [Kaggle Submissions (Oversampled Data)](#Kaggle-Submissions-(Oversampled-Data))\n",
    "- [Kaggle Submission (Without Oversampling)](#Kaggle-Submission-(Without-Oversampling))\n",
    "- [Model Evaluation (Ada Boost with Oversampling)](#Model-Evaluation-(Ada-Boost-with-Oversampling))\n",
    "- [Cost Benefit Analysis](#Cost-Benefit-Analysis)\n",
    "- [Conclusion](#Conclusion)"
   ]
  },
  {
   "cell_type": "markdown",
   "metadata": {},
   "source": [
    "# Import Libraries and Load Data"
   ]
  },
  {
   "cell_type": "code",
   "execution_count": 1,
   "metadata": {},
   "outputs": [],
   "source": [
    "import numpy as np\n",
    "import pandas as pd\n",
    "\n",
    "# visualization\n",
    "import seaborn as sns\n",
    "import matplotlib.pyplot as plt\n",
    "%matplotlib inline\n",
    "sns.set_style('whitegrid')\n",
    "\n",
    "# settings to see all columns / rows\n",
    "pd.set_option('display.max_columns', None)\n",
    "pd.set_option('display.max_rows', None)\n",
    "\n",
    "# machine learning\n",
    "from collections import Counter\n",
    "from sklearn.model_selection import train_test_split, KFold,cross_val_score\n",
    "from sklearn.preprocessing import PolynomialFeatures, StandardScaler\n",
    "from sklearn.decomposition import PCA\n",
    "from sklearn.ensemble import RandomForestClassifier, AdaBoostClassifier, GradientBoostingClassifier, ExtraTreesClassifier, VotingClassifier\n",
    "from sklearn.linear_model import LogisticRegression\n",
    "from sklearn.neighbors import KNeighborsClassifier\n",
    "from sklearn.tree import DecisionTreeClassifier\n",
    "from sklearn.neural_network import MLPClassifier\n",
    "from sklearn.svm import SVC, LinearSVC\n",
    "from sklearn.pipeline import Pipeline\n",
    "from sklearn.model_selection import GridSearchCV, cross_val_score, StratifiedKFold, learning_curve\n",
    "from sklearn.metrics import classification_report, confusion_matrix, roc_auc_score\n",
    "\n",
    "# Set a random seed.\n",
    "np.random.seed(42)\n"
   ]
  },
  {
   "cell_type": "code",
   "execution_count": 2,
   "metadata": {},
   "outputs": [],
   "source": [
    "# import train/test final dataset\n",
    "train_final = pd.read_csv('../datasets/clean/train_final.csv')\n",
    "test_final = pd.read_csv('../datasets/clean/test_final.csv')"
   ]
  },
  {
   "cell_type": "code",
   "execution_count": 3,
   "metadata": {},
   "outputs": [
    {
     "data": {
      "text/plain": [
       "((10506, 62), (116293, 57))"
      ]
     },
     "execution_count": 3,
     "metadata": {},
     "output_type": "execute_result"
    }
   ],
   "source": [
    "train_final.shape, test_final.shape"
   ]
  },
  {
   "cell_type": "markdown",
   "metadata": {},
   "source": [
    "# Prepare Data"
   ]
  },
  {
   "cell_type": "markdown",
   "metadata": {},
   "source": [
    "In this section, we will perform actions to prep our dataset for modelling"
   ]
  },
  {
   "cell_type": "markdown",
   "metadata": {},
   "source": [
    "## One Hot Encoding"
   ]
  },
  {
   "cell_type": "markdown",
   "metadata": {},
   "source": [
    "We will be dropping columns which we know that we will not be using as a feature based on domain knowledge and understanding of our dataset."
   ]
  },
  {
   "cell_type": "code",
   "execution_count": 4,
   "metadata": {},
   "outputs": [],
   "source": [
    "cols_to_drop = ['Date','NumMosquitos','Latitude','Longitude','year','month','week','day','Address','AddressAccuracy','Depth', 'Water1', 'SnowFall']\n",
    "train_final.drop(cols_to_drop,axis=1,inplace=True)\n",
    "\n",
    "cols_to_drop = ['Date','Latitude','Longitude','Address','AddressAccuracy','Depth', 'Water1', 'SnowFall']\n",
    "test_final.drop(cols_to_drop,axis=1,inplace=True)"
   ]
  },
  {
   "cell_type": "markdown",
   "metadata": {},
   "source": [
    "Created columns to differentiate between train and test, merged the dataframe and performed one hot encoding for Species, Codesum and Trap. After the one hot encoding is performed, we dropped the created columns and separate the dataframe."
   ]
  },
  {
   "cell_type": "code",
   "execution_count": 5,
   "metadata": {},
   "outputs": [],
   "source": [
    "#Before one-hot encoding for train_final, test_final, need to merge them first\n",
    "train_final['is_train'] = 1\n",
    "test_final['is_train'] = 0\n",
    "train_final['Id'] = 0\n",
    "test_final['WnvPresent'] = 9"
   ]
  },
  {
   "cell_type": "code",
   "execution_count": 6,
   "metadata": {},
   "outputs": [
    {
     "data": {
      "text/plain": [
       "((10506, 51), (116293, 51))"
      ]
     },
     "execution_count": 6,
     "metadata": {},
     "output_type": "execute_result"
    }
   ],
   "source": [
    "train_final.shape,test_final.shape"
   ]
  },
  {
   "cell_type": "code",
   "execution_count": 7,
   "metadata": {},
   "outputs": [],
   "source": [
    "#rearrange the column order in both train and test before merge them for one-hot encoding\n",
    "columnsTitles = train_final.columns\n",
    "train_final = train_final.reindex(columns=columnsTitles)\n",
    "test_final = test_final.reindex(columns=columnsTitles)"
   ]
  },
  {
   "cell_type": "code",
   "execution_count": 8,
   "metadata": {},
   "outputs": [],
   "source": [
    "#one-hot encoding for train_final, test_final, merge them\n",
    "df_combined = pd.concat([train_final, test_final],axis=0)"
   ]
  },
  {
   "cell_type": "code",
   "execution_count": 9,
   "metadata": {},
   "outputs": [
    {
     "data": {
      "text/plain": [
       "(126799, 51)"
      ]
     },
     "execution_count": 9,
     "metadata": {},
     "output_type": "execute_result"
    }
   ],
   "source": [
    "df_combined.shape"
   ]
  },
  {
   "cell_type": "code",
   "execution_count": 10,
   "metadata": {},
   "outputs": [
    {
     "data": {
      "text/plain": [
       "(126799, 242)"
      ]
     },
     "execution_count": 10,
     "metadata": {},
     "output_type": "execute_result"
    }
   ],
   "source": [
    "#perform one-hot encoding\n",
    "object_columns = ['Species','CodeSum','Trap']\n",
    "\n",
    "df_combined = pd.get_dummies(df_combined, columns = object_columns, drop_first = False)\n",
    "df_combined.shape"
   ]
  },
  {
   "cell_type": "code",
   "execution_count": 11,
   "metadata": {},
   "outputs": [],
   "source": [
    "#split the combined set into train set and test set\n",
    "df_train = df_combined[df_combined['is_train']==1]\n",
    "df_test = df_combined[df_combined['is_train']==0]"
   ]
  },
  {
   "cell_type": "code",
   "execution_count": 12,
   "metadata": {},
   "outputs": [],
   "source": [
    "#drop columns created previously for merging for one-hot encoding\n",
    "df_train = df_train.drop(['Id','is_train'],axis=1)\n",
    "df_test = df_test.drop(['WnvPresent','is_train'],axis=1)"
   ]
  },
  {
   "cell_type": "code",
   "execution_count": 13,
   "metadata": {},
   "outputs": [
    {
     "name": "stdout",
     "output_type": "stream",
     "text": [
      "<class 'pandas.core.frame.DataFrame'>\n",
      "Int64Index: 10506 entries, 0 to 10505\n",
      "Columns: 240 entries, WnvPresent to Trap_T903\n",
      "dtypes: float64(33), int64(13), uint8(194)\n",
      "memory usage: 5.7 MB\n"
     ]
    }
   ],
   "source": [
    "df_train.info()"
   ]
  },
  {
   "cell_type": "markdown",
   "metadata": {},
   "source": [
    "## Oversampling to Balance the Dataset"
   ]
  },
  {
   "cell_type": "markdown",
   "metadata": {},
   "source": [
    "As our target is not balanced, we performed oversampling to balance the data"
   ]
  },
  {
   "cell_type": "code",
   "execution_count": 14,
   "metadata": {
    "scrolled": true
   },
   "outputs": [
    {
     "data": {
      "text/plain": [
       "0    0.947554\n",
       "1    0.052446\n",
       "Name: WnvPresent, dtype: float64"
      ]
     },
     "execution_count": 14,
     "metadata": {},
     "output_type": "execute_result"
    }
   ],
   "source": [
    "df_train['WnvPresent'].value_counts(normalize=True)"
   ]
  },
  {
   "cell_type": "code",
   "execution_count": 15,
   "metadata": {},
   "outputs": [],
   "source": [
    "#use over-sample to increase the samples for negative class\n",
    "#https://towardsdatascience.com/having-an-imbalanced-dataset-here-is-how-you-can-solve-it-1640568947eb\n",
    "#conda install -c conda-forge imbalanced-learn\n",
    "from imblearn import under_sampling, over_sampling\n",
    "from imblearn.over_sampling import SMOTE\n",
    "\n",
    "#from imblearn.over_sampling import SMOTE\n",
    "\n",
    "# Resample the minority class. You can change the strategy to 'auto' if you are not sure.\n",
    "sm = SMOTE(sampling_strategy='minority', random_state=7)\n",
    "\n",
    "# Fit the model to generate the data.\n",
    "oversampled_trainX, oversampled_trainY = sm.fit_sample(df_train.drop('WnvPresent',axis=1),df_train['WnvPresent'])\n",
    "oversampled_train = pd.concat([pd.DataFrame(oversampled_trainY), pd.DataFrame(oversampled_trainX)], axis=1)\n",
    "oversampled_train.columns = df_train.columns"
   ]
  },
  {
   "cell_type": "code",
   "execution_count": 16,
   "metadata": {},
   "outputs": [
    {
     "data": {
      "text/plain": [
       "(19910, 240)"
      ]
     },
     "execution_count": 16,
     "metadata": {},
     "output_type": "execute_result"
    }
   ],
   "source": [
    "oversampled_train.shape"
   ]
  },
  {
   "cell_type": "code",
   "execution_count": 17,
   "metadata": {},
   "outputs": [
    {
     "data": {
      "text/plain": [
       "1    0.5\n",
       "0    0.5\n",
       "Name: WnvPresent, dtype: float64"
      ]
     },
     "execution_count": 17,
     "metadata": {},
     "output_type": "execute_result"
    }
   ],
   "source": [
    "oversampled_train['WnvPresent'].value_counts(normalize=True)"
   ]
  },
  {
   "cell_type": "markdown",
   "metadata": {},
   "source": [
    "## Create our feature X and target label y"
   ]
  },
  {
   "cell_type": "code",
   "execution_count": 18,
   "metadata": {},
   "outputs": [
    {
     "data": {
      "text/plain": [
       "((19910, 239), (19910,))"
      ]
     },
     "execution_count": 18,
     "metadata": {},
     "output_type": "execute_result"
    }
   ],
   "source": [
    "X = oversampled_train.drop('WnvPresent',axis=1)\n",
    "y = oversampled_train['WnvPresent']\n",
    "X.shape, y.shape"
   ]
  },
  {
   "cell_type": "markdown",
   "metadata": {},
   "source": [
    "## Train-Test Split"
   ]
  },
  {
   "cell_type": "code",
   "execution_count": 19,
   "metadata": {},
   "outputs": [],
   "source": [
    "X_train, X_val, y_train, y_val = train_test_split(X,y,test_size=0.3,random_state=22)"
   ]
  },
  {
   "cell_type": "code",
   "execution_count": 20,
   "metadata": {},
   "outputs": [
    {
     "data": {
      "text/plain": [
       "((13937, 239), (13937,), (5973, 239), (5973,))"
      ]
     },
     "execution_count": 20,
     "metadata": {},
     "output_type": "execute_result"
    }
   ],
   "source": [
    "X_train.shape, y_train.shape, X_val.shape, y_val.shape"
   ]
  },
  {
   "cell_type": "markdown",
   "metadata": {},
   "source": [
    "# Feature Selection"
   ]
  },
  {
   "cell_type": "markdown",
   "metadata": {},
   "source": [
    "We utilised PCA to select the top features to be used for our modelling"
   ]
  },
  {
   "cell_type": "code",
   "execution_count": 21,
   "metadata": {},
   "outputs": [],
   "source": [
    "pipe = Pipeline([\n",
    "    ('ss', StandardScaler()),\n",
    "    ('pca', PCA())])"
   ]
  },
  {
   "cell_type": "code",
   "execution_count": 22,
   "metadata": {},
   "outputs": [],
   "source": [
    "pipe_params = {\n",
    "    'pca__n_components': [None, 30], # find out how many max features is better\n",
    "    'pca__tol': [0.0, 0.5]}"
   ]
  },
  {
   "cell_type": "code",
   "execution_count": null,
   "metadata": {},
   "outputs": [],
   "source": [
    "pipeline_gridsearch(pipe, pipe_params, X_train, y_train)"
   ]
  },
  {
   "cell_type": "code",
   "execution_count": 23,
   "metadata": {},
   "outputs": [],
   "source": [
    "ss = StandardScaler()\n",
    "pca = PCA(n_components = None, tol = 0.0)"
   ]
  },
  {
   "cell_type": "code",
   "execution_count": 24,
   "metadata": {},
   "outputs": [],
   "source": [
    "p_train = ss.fit_transform(X_train)\n",
    "p_val = ss.transform(X_val)"
   ]
  },
  {
   "cell_type": "code",
   "execution_count": 25,
   "metadata": {},
   "outputs": [],
   "source": [
    "p_train = pca.fit_transform(p_train)\n",
    "p_val = pca.transform(p_val)"
   ]
  },
  {
   "cell_type": "code",
   "execution_count": 26,
   "metadata": {},
   "outputs": [
    {
     "name": "stdout",
     "output_type": "stream",
     "text": [
      "Explained variance (first 20 components): [0.071 0.033 0.023 0.017 0.015 0.012 0.012 0.01  0.009 0.008 0.008 0.008\n",
      " 0.007 0.007 0.007 0.006 0.006 0.006 0.006 0.006 0.006 0.006 0.006 0.006\n",
      " 0.006 0.006 0.005 0.005 0.005 0.005 0.005 0.005 0.005 0.005 0.005 0.005\n",
      " 0.005 0.005 0.005 0.005 0.005 0.005 0.005 0.005 0.005 0.005 0.005 0.005\n",
      " 0.005 0.005 0.005 0.005 0.005 0.005 0.005 0.005 0.005 0.005 0.005 0.005\n",
      " 0.005 0.005 0.005 0.005 0.005 0.005 0.005 0.005 0.005 0.005 0.005 0.005\n",
      " 0.005 0.005 0.005 0.005 0.005 0.005 0.005 0.005 0.005 0.005 0.005 0.005\n",
      " 0.005 0.005 0.005 0.005 0.005 0.005 0.005 0.005 0.005 0.005 0.005 0.005\n",
      " 0.005 0.005 0.005 0.005 0.005 0.005 0.005 0.005 0.005 0.005 0.005 0.005\n",
      " 0.005 0.005 0.005 0.005 0.005 0.005 0.005 0.005 0.005 0.005 0.005 0.005]\n",
      "\n",
      "Cumulative explained variance (first 20 components): [0.071 0.103 0.126 0.142 0.157 0.169 0.181 0.191 0.2   0.208 0.217 0.224\n",
      " 0.232 0.239 0.245 0.252 0.258 0.264 0.27  0.276 0.282 0.288 0.293 0.299\n",
      " 0.305 0.31  0.316 0.321 0.327 0.332 0.337 0.342 0.348 0.353 0.358 0.363\n",
      " 0.368 0.373 0.378 0.383 0.388 0.393 0.398 0.403 0.408 0.413 0.417 0.422\n",
      " 0.427 0.432 0.437 0.441 0.446 0.451 0.456 0.461 0.465 0.47  0.475 0.48\n",
      " 0.484 0.489 0.494 0.498 0.503 0.508 0.512 0.517 0.522 0.527 0.531 0.536\n",
      " 0.541 0.545 0.55  0.555 0.559 0.564 0.569 0.573 0.578 0.583 0.587 0.592\n",
      " 0.597 0.601 0.606 0.611 0.615 0.62  0.625 0.629 0.634 0.638 0.643 0.648\n",
      " 0.652 0.657 0.662 0.666 0.671 0.676 0.68  0.685 0.69  0.694 0.699 0.704\n",
      " 0.708 0.713 0.717 0.722 0.727 0.731 0.736 0.74  0.745 0.75  0.754 0.759]\n"
     ]
    }
   ],
   "source": [
    "# Pull the explained variance attribute.\n",
    "var_exp = pca.explained_variance_ratio_\n",
    "print(f'Explained variance (first 20 components): {np.round(var_exp[:120],3)}')\n",
    "print('')\n",
    "# Generate the cumulative explained variance.\n",
    "cum_var_exp = np.cumsum(var_exp)\n",
    "print(f'Cumulative explained variance (first 20 components): {np.round(cum_var_exp[:120],3)}')"
   ]
  },
  {
   "cell_type": "code",
   "execution_count": 27,
   "metadata": {},
   "outputs": [],
   "source": [
    "# number of components\n",
    "n_pcs= pca.components_.shape[0]\n",
    "# get the index of the most important feature on EACH component\n",
    "# LIST COMPREHENSION HERE\n",
    "most_important = [np.abs(pca.components_[i]).argmax() for i in range(n_pcs)]"
   ]
  },
  {
   "cell_type": "code",
   "execution_count": 28,
   "metadata": {},
   "outputs": [
    {
     "data": {
      "text/plain": [
       "[(38, 'WetBulb_1dayb', 0.07056400710896854),\n",
       " (29, 'DewPoint_6dayb', 0.03251340589077679),\n",
       " (40, 'WetBulb_3dayb', 0.022656074966830423),\n",
       " (17, 'PrecipTotal_1dayb', 0.01651044805829434),\n",
       " (9, 'Sunrise', 0.014580587610296666),\n",
       " (0, 'Station', 0.012411508168821245),\n",
       " (19, 'PrecipTotal_3dayb', 0.011532077069285577),\n",
       " (54, 'CodeSum_BR', 0.010108842095073931),\n",
       " (14, 'ResultSpeed', 0.009030149911417115),\n",
       " (82, 'CodeSum_TSRA RA', 0.008448824788441115),\n",
       " (47, 'Species_CULEX PIPIENS/RESTUANS', 0.00829971153413868),\n",
       " (47, 'Species_CULEX PIPIENS/RESTUANS', 0.007674890841389216),\n",
       " (61, 'CodeSum_RA', 0.007304512403254088),\n",
       " (72, 'CodeSum_TS TSRA RA BR', 0.006912312507977705),\n",
       " (87, 'CodeSum_TSRA RA DZ BR HZ', 0.006773674676543572),\n",
       " (63, 'CodeSum_RA BR HZ', 0.006390357529438336),\n",
       " (78, 'CodeSum_TSRA BR HZ', 0.006320197135490523),\n",
       " (61, 'CodeSum_RA', 0.00622216027000155),\n",
       " (55, 'CodeSum_BR HZ', 0.006053975121246023),\n",
       " (73, 'CodeSum_TS TSRA RA BR HZ VCTS', 0.005839168489407803),\n",
       " (57, 'CodeSum_DZ BR', 0.005779613612251208),\n",
       " (51, 'Species_CULEX TERRITANS', 0.005775856904493353),\n",
       " (57, 'CodeSum_DZ BR', 0.0057190652198513435),\n",
       " (57, 'CodeSum_DZ BR', 0.005658937834213637),\n",
       " (65, 'CodeSum_RA DZ BR', 0.0056240954140056665),\n",
       " (79, 'CodeSum_TSRA BR HZ VCTS', 0.005527103216827507),\n",
       " (79, 'CodeSum_TSRA BR HZ VCTS', 0.005475881490085638),\n",
       " (78, 'CodeSum_TSRA BR HZ', 0.005448026794571199),\n",
       " (79, 'CodeSum_TSRA BR HZ VCTS', 0.005408292887723239),\n",
       " (70, 'CodeSum_TS TSRA BR HZ', 0.0053676361877259115),\n",
       " (89, 'CodeSum_VCTS', 0.005308438600259891),\n",
       " (70, 'CodeSum_TS TSRA BR HZ', 0.0052524946426808165),\n",
       " (49, 'Species_CULEX SALINARIUS', 0.005208918130374621),\n",
       " (86, 'CodeSum_TSRA RA BR VCTS', 0.005176922581431567),\n",
       " (86, 'CodeSum_TSRA RA BR VCTS', 0.005109860831900324),\n",
       " (50, 'Species_CULEX TARSALIS', 0.005106059035339168),\n",
       " (69, 'CodeSum_TS TSRA BR', 0.005082122425197462),\n",
       " (49, 'Species_CULEX SALINARIUS', 0.005032546569888822),\n",
       " (154, 'Trap_T082', 0.0049944793554826256),\n",
       " (50, 'Species_CULEX TARSALIS', 0.004981003058285897),\n",
       " (231, 'Trap_T233', 0.004953183367865722),\n",
       " (76, 'CodeSum_TSRA', 0.0049270480987383),\n",
       " (112, 'Trap_T028', 0.004892043418517523),\n",
       " (132, 'Trap_T054C', 0.004882009761399457),\n",
       " (94, 'Trap_T003', 0.0048771751395595975),\n",
       " (157, 'Trap_T085', 0.0048520253394759945),\n",
       " (134, 'Trap_T061', 0.0048401159964952135),\n",
       " (229, 'Trap_T231', 0.004832081013237738),\n",
       " (201, 'Trap_T158', 0.004826394112427101),\n",
       " (229, 'Trap_T231', 0.004815135872736177),\n",
       " (197, 'Trap_T154', 0.004804702197558501),\n",
       " (203, 'Trap_T160', 0.004798472552280512),\n",
       " (165, 'Trap_T091', 0.004787958309035034),\n",
       " (134, 'Trap_T061', 0.004781795468868856),\n",
       " (135, 'Trap_T062', 0.0047709686351850135),\n",
       " (145, 'Trap_T073', 0.004753599920936012),\n",
       " (101, 'Trap_T011', 0.0047477386019206674),\n",
       " (100, 'Trap_T009', 0.004740642219471202),\n",
       " (152, 'Trap_T080', 0.004734309347409789),\n",
       " (171, 'Trap_T097', 0.004726408397710455),\n",
       " (218, 'Trap_T220', 0.004722887246257757),\n",
       " (199, 'Trap_T156', 0.004719817719484407),\n",
       " (174, 'Trap_T102', 0.004711007729084398),\n",
       " (213, 'Trap_T218', 0.004702204913772731),\n",
       " (174, 'Trap_T102', 0.0046999417502689225),\n",
       " (90, 'Trap_T001', 0.004697411969965348),\n",
       " (181, 'Trap_T129', 0.004693969409120096),\n",
       " (108, 'Trap_T018', 0.004688456762532305),\n",
       " (146, 'Trap_T074', 0.004686279791480149),\n",
       " (152, 'Trap_T080', 0.004684290264137979),\n",
       " (141, 'Trap_T069', 0.004681182175808075),\n",
       " (141, 'Trap_T069', 0.0046794893687524975),\n",
       " (107, 'Trap_T017', 0.004678648102877376),\n",
       " (107, 'Trap_T017', 0.0046749380516092585),\n",
       " (123, 'Trap_T044', 0.0046738024593560926),\n",
       " (236, 'Trap_T238', 0.004670468568418768),\n",
       " (108, 'Trap_T018', 0.004669428591884535),\n",
       " (188, 'Trap_T145', 0.004668369451436998),\n",
       " (122, 'Trap_T043', 0.004667781208889418),\n",
       " (196, 'Trap_T153', 0.00466541412768073),\n",
       " (210, 'Trap_T209', 0.004664593018675024),\n",
       " (204, 'Trap_T161', 0.004662504948203465),\n",
       " (159, 'Trap_T088', 0.00466066394064872),\n",
       " (196, 'Trap_T153', 0.004660100491433541),\n",
       " (204, 'Trap_T161', 0.004659296752552119),\n",
       " (123, 'Trap_T044', 0.004658945313628781),\n",
       " (184, 'Trap_T141', 0.004658459668643025),\n",
       " (109, 'Trap_T019', 0.004657758051013461),\n",
       " (159, 'Trap_T088', 0.004657246115111165),\n",
       " (95, 'Trap_T004', 0.004656773410240021),\n",
       " (217, 'Trap_T219', 0.004656183242429619),\n",
       " (173, 'Trap_T100', 0.0046560539663663535),\n",
       " (173, 'Trap_T100', 0.004655803534781074),\n",
       " (166, 'Trap_T092', 0.004655609609531193),\n",
       " (147, 'Trap_T075', 0.004655482250111765),\n",
       " (143, 'Trap_T071', 0.004655172071229939),\n",
       " (150, 'Trap_T078', 0.004654295059904917),\n",
       " (235, 'Trap_T237', 0.0046542163315224285),\n",
       " (130, 'Trap_T051', 0.004653471379032201),\n",
       " (196, 'Trap_T153', 0.004652201930997014),\n",
       " (236, 'Trap_T238', 0.004649205591739555),\n",
       " (236, 'Trap_T238', 0.0046479987642620455),\n",
       " (172, 'Trap_T099', 0.004645179123893945),\n",
       " (182, 'Trap_T135', 0.004641992577118566),\n",
       " (168, 'Trap_T094B', 0.004640527720973201),\n",
       " (182, 'Trap_T135', 0.004639889203126668),\n",
       " (176, 'Trap_T107', 0.004633856129041111),\n",
       " (140, 'Trap_T067', 0.004631886249091872),\n",
       " (188, 'Trap_T145', 0.004624826691778061),\n",
       " (199, 'Trap_T156', 0.004622569651790116),\n",
       " (145, 'Trap_T073', 0.00461865374413839),\n",
       " (187, 'Trap_T144', 0.004618259964011521),\n",
       " (195, 'Trap_T152', 0.0046150469473719554),\n",
       " (199, 'Trap_T156', 0.004611965856853541),\n",
       " (136, 'Trap_T063', 0.004609544862211057),\n",
       " (218, 'Trap_T220', 0.004603801137287291),\n",
       " (194, 'Trap_T151', 0.0045983748196008496),\n",
       " (211, 'Trap_T212', 0.004590467242566305),\n",
       " (205, 'Trap_T162', 0.004582477944534522),\n",
       " (152, 'Trap_T080', 0.004579559006623765),\n",
       " (94, 'Trap_T003', 0.004575769190434894),\n",
       " (136, 'Trap_T063', 0.004572255457079085),\n",
       " (201, 'Trap_T158', 0.004561836646635091),\n",
       " (176, 'Trap_T107', 0.004554760793357626),\n",
       " (145, 'Trap_T073', 0.00454804303929323),\n",
       " (157, 'Trap_T085', 0.0045465499780191964),\n",
       " (155, 'Trap_T083', 0.004535583964874775),\n",
       " (112, 'Trap_T028', 0.004532434282212837),\n",
       " (117, 'Trap_T035', 0.004530396165576094),\n",
       " (115, 'Trap_T033', 0.00452758229629137),\n",
       " (117, 'Trap_T035', 0.004515246432294859),\n",
       " (219, 'Trap_T221', 0.004510338170464683),\n",
       " (132, 'Trap_T054C', 0.004501296150517852),\n",
       " (229, 'Trap_T231', 0.0044954720307666856),\n",
       " (142, 'Trap_T070', 0.004487744614872311),\n",
       " (228, 'Trap_T230', 0.004462292276909782),\n",
       " (124, 'Trap_T045', 0.004458186056958247),\n",
       " (186, 'Trap_T143', 0.004450436976335406),\n",
       " (167, 'Trap_T094', 0.004446181565282285),\n",
       " (186, 'Trap_T143', 0.004439457327995383),\n",
       " (132, 'Trap_T054C', 0.004429216254851637),\n",
       " (115, 'Trap_T033', 0.004414034782438576),\n",
       " (101, 'Trap_T011', 0.004392102628316374),\n",
       " (134, 'Trap_T061', 0.004364730011630851),\n",
       " (76, 'CodeSum_TSRA', 0.004352144277139644),\n",
       " (106, 'Trap_T016', 0.004315008681166083),\n",
       " (153, 'Trap_T081', 0.004306603261918272),\n",
       " (70, 'CodeSum_TS TSRA BR HZ', 0.004284801424448894),\n",
       " (81, 'CodeSum_TSRA HZ', 0.004195932927854828),\n",
       " (86, 'CodeSum_TSRA RA BR VCTS', 0.0041732563757689595),\n",
       " (50, 'Species_CULEX TARSALIS', 0.004163013468262927),\n",
       " (65, 'CodeSum_RA DZ BR', 0.004135515837953728),\n",
       " (50, 'Species_CULEX TARSALIS', 0.0041132998716047016),\n",
       " (81, 'CodeSum_TSRA HZ', 0.004029021017381332),\n",
       " (111, 'Trap_T027', 0.0040173238003625746),\n",
       " (86, 'CodeSum_TSRA RA BR VCTS', 0.00394207329251787),\n",
       " (62, 'CodeSum_RA BR', 0.003920950598876659),\n",
       " (73, 'CodeSum_TS TSRA RA BR HZ VCTS', 0.0038444920182808843),\n",
       " (74, 'CodeSum_TS TSRA RA FG BR HZ', 0.0038328891848956994),\n",
       " (73, 'CodeSum_TS TSRA RA BR HZ VCTS', 0.0037685791813450685),\n",
       " (63, 'CodeSum_RA BR HZ', 0.003725989134381419),\n",
       " (62, 'CodeSum_RA BR', 0.0036814207135861684),\n",
       " (51, 'Species_CULEX TERRITANS', 0.003652747566308078),\n",
       " (57, 'CodeSum_DZ BR', 0.003640332105981167),\n",
       " (57, 'CodeSum_DZ BR', 0.0035511784070558845),\n",
       " (67, 'CodeSum_TS BR', 0.003379303488516626),\n",
       " (46, 'Species_CULEX PIPIENS', 0.0033218886157058607),\n",
       " (59, 'CodeSum_HZ', 0.0032716980991732447),\n",
       " (78, 'CodeSum_TSRA BR HZ', 0.0032236178832208526),\n",
       " (58, 'CodeSum_FG BR HZ', 0.0031367641534711652),\n",
       " (55, 'CodeSum_BR HZ', 0.0030926501828855628),\n",
       " (82, 'CodeSum_TSRA RA', 0.0027979450648789365),\n",
       " (58, 'CodeSum_FG BR HZ', 0.002696189935041792),\n",
       " (55, 'CodeSum_BR HZ', 0.002557555923650693),\n",
       " (15, 'ResultDir', 0.002483248185831365),\n",
       " (54, 'CodeSum_BR', 0.0022858285870059076),\n",
       " (15, 'ResultDir', 0.002216026125729813),\n",
       " (7, 'Heat', 0.0020110007760446263),\n",
       " (23, 'PrecipTotal_7dayb', 0.002000818298432253),\n",
       " (61, 'CodeSum_RA', 0.0016517443859918274),\n",
       " (21, 'PrecipTotal_5dayb', 0.0014548749150837537),\n",
       " (19, 'PrecipTotal_3dayb', 0.0012241630581040549),\n",
       " (20, 'PrecipTotal_4dayb', 0.0009735700027349507),\n",
       " (19, 'PrecipTotal_3dayb', 0.0008381472197791838),\n",
       " (36, 'Tavg_6dayb', 0.0007866664744995974),\n",
       " (17, 'PrecipTotal_1dayb', 0.0007060448232588286),\n",
       " (54, 'CodeSum_BR', 0.0005696213246552343),\n",
       " (34, 'Tavg_4dayb', 0.000516602211858689),\n",
       " (24, 'DewPoint_1dayb', 0.0003628230674668442),\n",
       " (5, 'DewPoint', 0.0003542269771225868),\n",
       " (11, 'PrecipTotal', 0.0003056029005787203),\n",
       " (4, 'Depart', 0.000285680854740692),\n",
       " (2, 'Tmin', 0.00020640645889851905),\n",
       " (33, 'Tavg_3dayb', 0.00020305498020867466),\n",
       " (16, 'AvgSpeed', 0.00016769744979494314),\n",
       " (35, 'Tavg_5dayb', 0.00014942536316218548),\n",
       " (4, 'Depart', 0.00011264077798168091),\n",
       " (35, 'Tavg_5dayb', 0.00010477108888480618),\n",
       " (31, 'Tavg_1dayb', 9.151026634073278e-05),\n",
       " (10, 'Sunset', 5.227159071484454e-05),\n",
       " (12, 'StnPressure', 1.809150218724188e-05),\n",
       " (41, 'WetBulb_4dayb', 1.4224584715315252e-05),\n",
       " (6, 'WetBulb', 1.2266016245524224e-05),\n",
       " (43, 'WetBulb_6dayb', 1.1347743266452099e-05),\n",
       " (40, 'WetBulb_3dayb', 8.999469773527107e-06),\n",
       " (42, 'WetBulb_5dayb', 8.032218509645469e-06),\n",
       " (41, 'WetBulb_4dayb', 7.331395026158875e-06),\n",
       " (38, 'WetBulb_1dayb', 6.710892785203995e-06),\n",
       " (6, 'WetBulb', 5.081504836370857e-06),\n",
       " (1, 'Tmax', 2.560203304516947e-06),\n",
       " (0, 'Station', 2.685981011412916e-32),\n",
       " (47, 'Species_CULEX PIPIENS/RESTUANS', 1.3750191475610028e-32),\n",
       " (93, 'Trap_T002B', 6.078710018225543e-33),\n",
       " (53, 'CodeSum_BCFG BR', 2.012459777008725e-33),\n",
       " (68, 'CodeSum_TS RA', 1.9597661766176555e-33),\n",
       " (92, 'Trap_T002A', 1.4766818477849857e-33),\n",
       " (3, 'Tavg', 1.4375814432809493e-33),\n",
       " (138, 'Trap_T065A', 1.1574838836013387e-33),\n",
       " (64, 'CodeSum_RA DZ', 7.537477675678928e-34),\n",
       " (162, 'Trap_T090A', 6.355145071815756e-34),\n",
       " (52, 'Species_UNSPECIFIED CULEX', 4.861444333906571e-34),\n",
       " (180, 'Trap_T128A', 4.195021651992587e-34),\n",
       " (53, 'CodeSum_BCFG BR', 4.195021651992587e-34),\n",
       " (214, 'Trap_T218A', 4.195021651992587e-34),\n",
       " (207, 'Trap_T200A', 4.195021651992587e-34),\n",
       " (216, 'Trap_T218C', 4.195021651992587e-34),\n",
       " (138, 'Trap_T065A', 4.195021651992587e-34),\n",
       " (208, 'Trap_T200B', 4.195021651992587e-34),\n",
       " (163, 'Trap_T090B', 4.195021651992587e-34),\n",
       " (214, 'Trap_T218A', 4.195021651992587e-34),\n",
       " (208, 'Trap_T200B', 4.195021651992587e-34),\n",
       " (215, 'Trap_T218B', 4.195021651992587e-34),\n",
       " (180, 'Trap_T128A', 4.195021651992587e-34),\n",
       " (232, 'Trap_T234', 4.195021651992587e-34),\n",
       " (45, 'Species_CULEX ERRATICUS', 3.282428250515207e-34),\n",
       " (80, 'CodeSum_TSRA FG+ BR HZ', 3.0257978194537277e-34),\n",
       " (56, 'CodeSum_DZ', 2.0307969359608646e-34),\n",
       " (71, 'CodeSum_TS TSRA RA', 1.5203845954150495e-34),\n",
       " (80, 'CodeSum_TSRA FG+ BR HZ', 2.7615608233459803e-35)]"
      ]
     },
     "execution_count": 28,
     "metadata": {},
     "output_type": "execute_result"
    }
   ],
   "source": [
    "# get the names\n",
    "most_important_names = [X.columns]\n",
    "most_important_names[0][42]\n",
    "# print pca and feature names\n",
    "pca_feature = list(zip(most_important, most_important_names[0][most_important],var_exp))\n",
    "pca_feature"
   ]
  },
  {
   "cell_type": "code",
   "execution_count": 29,
   "metadata": {},
   "outputs": [
    {
     "data": {
      "image/png": "[encoded data removed]",
      "text/plain": [
       "<Figure size 864x576 with 1 Axes>"
      ]
     },
     "metadata": {
      "needs_background": "light"
     },
     "output_type": "display_data"
    }
   ],
   "source": [
    "# Plot the variance explained (and cumulative variance explained).\n",
    "# Set figure size.\n",
    "plt.figure(figsize=(12,8))\n",
    "# Plot the explained variance.\n",
    "plt.plot(range(len(var_exp)), var_exp, lw=3, label = 'Variance Explained')\n",
    "# Plot the cumulative explained variance.\n",
    "plt.plot(range(len(var_exp)), cum_var_exp, lw=3, color = 'orange', label = 'Cumulative Variance Explained')\n",
    "# Add horizontal lines at y=0 and y=1.\n",
    "plt.axhline(y=0, linewidth=1, color='grey', ls='dashed')\n",
    "plt.axhline(y=1, linewidth=1, color='grey', ls='dashed')\n",
    "# Set the limits of the axes.\n",
    "#plt.xlim([-1,21])\n",
    "#plt.ylim([-0.01,1.01])\n",
    "# Label the axes.\n",
    "plt.ylabel('Variance Explained', fontsize=20)\n",
    "plt.xlabel('Principal Component', fontsize=20)\n",
    "# Make the tick labels bigger\n",
    "#plt.xticks(range(0, 21, 5), range(1, 22, 5), fontsize=12)\n",
    "plt.yticks(fontsize=12)\n",
    "# Add title and legend.\n",
    "plt.title('Component vs. Variance Explained', fontsize=24)\n",
    "plt.legend(fontsize=11);"
   ]
  },
  {
   "cell_type": "markdown",
   "metadata": {},
   "source": [
    "120 features will be able to explain around 80% variance of our features. We will use the top 120 features for modelling"
   ]
  },
  {
   "cell_type": "code",
   "execution_count": 30,
   "metadata": {},
   "outputs": [],
   "source": [
    "top_feature_col = [x[1] for x in pca_feature][:120]"
   ]
  },
  {
   "cell_type": "markdown",
   "metadata": {},
   "source": [
    "# Model Prepping"
   ]
  },
  {
   "cell_type": "markdown",
   "metadata": {},
   "source": [
    "Now we will begin prepping for our modelling process"
   ]
  },
  {
   "cell_type": "markdown",
   "metadata": {},
   "source": [
    "## Grid Search"
   ]
  },
  {
   "cell_type": "markdown",
   "metadata": {},
   "source": [
    "Grid search was performed on Decision Tree, Random Forest, Ada Boost and Logistic Regression to determine the best perimeter to use"
   ]
  },
  {
   "cell_type": "code",
   "execution_count": 31,
   "metadata": {},
   "outputs": [],
   "source": [
    "def pipeline_gridsearch(pipe, pipe_params, X_train, y_train):\n",
    "    gs = GridSearchCV(pipe, param_grid=pipe_params, cv=5, n_jobs = -1)\n",
    "    gs.fit(X_train, y_train)\n",
    "    print(gs.best_score_) # best_score_ is gridsearch's function\n",
    "    print(gs.best_params_)# best_params_ is gridsearch's function"
   ]
  },
  {
   "cell_type": "markdown",
   "metadata": {},
   "source": [
    "### Decision Tree Classifier"
   ]
  },
  {
   "cell_type": "code",
   "execution_count": 32,
   "metadata": {},
   "outputs": [],
   "source": [
    "pipe = Pipeline([\n",
    "    ('ss', StandardScaler()),\n",
    "    ('dt', DecisionTreeClassifier())])"
   ]
  },
  {
   "cell_type": "code",
   "execution_count": 33,
   "metadata": {},
   "outputs": [],
   "source": [
    "pipe_params = {\n",
    "    'dt__max_depth' : [7, 10],\n",
    "    'dt__min_samples_split' : [5, 10],\n",
    "    'dt__min_samples_leaf' : [2, 3],\n",
    "    }"
   ]
  },
  {
   "cell_type": "code",
   "execution_count": null,
   "metadata": {},
   "outputs": [],
   "source": [
    "pipeline_gridsearch(pipe,pipe_params, X_train[top_feature_col], y_train)"
   ]
  },
  {
   "cell_type": "markdown",
   "metadata": {},
   "source": [
    "### Random Forest"
   ]
  },
  {
   "cell_type": "code",
   "execution_count": 34,
   "metadata": {},
   "outputs": [],
   "source": [
    "pipe_rf = Pipeline([\n",
    "    ('ss', StandardScaler()),\n",
    "    ('rf', RandomForestClassifier())])"
   ]
  },
  {
   "cell_type": "code",
   "execution_count": 35,
   "metadata": {},
   "outputs": [],
   "source": [
    "pipe_params_rf = {\n",
    "    'rf__n_estimators' : [135,140,145],\n",
    "    'rf__max_features' : [25,30,35],\n",
    "    'rf__max_depth' : [50,55]\n",
    "}"
   ]
  },
  {
   "cell_type": "code",
   "execution_count": null,
   "metadata": {},
   "outputs": [],
   "source": [
    "pipeline_gridsearch(pipe_rf,pipe_params_rf, X_train[top_feature_col], y_train)"
   ]
  },
  {
   "cell_type": "markdown",
   "metadata": {},
   "source": [
    "### Adaboost"
   ]
  },
  {
   "cell_type": "code",
   "execution_count": 36,
   "metadata": {},
   "outputs": [],
   "source": [
    "pipe = Pipeline([\n",
    "    ('ss', StandardScaler()),\n",
    "    ('ada', AdaBoostClassifier())])"
   ]
  },
  {
   "cell_type": "code",
   "execution_count": 37,
   "metadata": {},
   "outputs": [],
   "source": [
    "pipe_params = {\n",
    "    'ada__n_estimators' : [50, 100],\n",
    "    'ada__learning_rate' : [1.0, 2.0]}"
   ]
  },
  {
   "cell_type": "code",
   "execution_count": null,
   "metadata": {},
   "outputs": [],
   "source": [
    "pipeline_gridsearch(pipe, pipe_params, X_train[top_feature_col], y_train)"
   ]
  },
  {
   "cell_type": "markdown",
   "metadata": {},
   "source": [
    "### Logistics Regression"
   ]
  },
  {
   "cell_type": "code",
   "execution_count": 38,
   "metadata": {},
   "outputs": [],
   "source": [
    "pipe = Pipeline([\n",
    "    ('ss', StandardScaler()),\n",
    "    ('logit', LogisticRegression())])"
   ]
  },
  {
   "cell_type": "code",
   "execution_count": 39,
   "metadata": {},
   "outputs": [],
   "source": [
    "pipe_params = {  \n",
    "    'logit__C' : [1, 2], \n",
    "    'logit__class_weight' : [None, 'balanced'],\n",
    "    'logit__penalty' : ['l1', 'l2']}"
   ]
  },
  {
   "cell_type": "code",
   "execution_count": null,
   "metadata": {},
   "outputs": [],
   "source": [
    "pipeline_gridsearch(pipe, pipe_params, X_train[top_feature_col], y_train)"
   ]
  },
  {
   "cell_type": "markdown",
   "metadata": {},
   "source": [
    "# Kaggle Submissions (Oversampled Data)"
   ]
  },
  {
   "cell_type": "markdown",
   "metadata": {},
   "source": [
    "After the best perimeters are determining, we will first fit the model with oversampled data and submit the predictions to kaggle for scoring"
   ]
  },
  {
   "cell_type": "code",
   "execution_count": 40,
   "metadata": {},
   "outputs": [],
   "source": [
    "X_os = oversampled_train[top_feature_col]\n",
    "y_os = oversampled_train['WnvPresent']\n",
    "X_test_os = df_test[top_feature_col]"
   ]
  },
  {
   "cell_type": "code",
   "execution_count": 41,
   "metadata": {},
   "outputs": [],
   "source": [
    "ss = StandardScaler()"
   ]
  },
  {
   "cell_type": "code",
   "execution_count": 42,
   "metadata": {},
   "outputs": [],
   "source": [
    "X_os = ss.fit_transform(X_os)\n",
    "X_test_os = ss.transform(X_test_os)"
   ]
  },
  {
   "cell_type": "markdown",
   "metadata": {},
   "source": [
    "### Decision Tree"
   ]
  },
  {
   "cell_type": "code",
   "execution_count": 43,
   "metadata": {},
   "outputs": [],
   "source": [
    "best_dt = DecisionTreeClassifier(max_depth = 10,\n",
    "                            min_samples_split = 5,\n",
    "                            min_samples_leaf = 2,\n",
    "                            random_state = 42)"
   ]
  },
  {
   "cell_type": "code",
   "execution_count": 44,
   "metadata": {},
   "outputs": [
    {
     "name": "stdout",
     "output_type": "stream",
     "text": [
      "Training Score: 0.8768\n"
     ]
    }
   ],
   "source": [
    "best_dt.fit(X_os, y_os)\n",
    "print('Training Score: {}'.format(round(best_dt.score(X_os, y_os), 4)))"
   ]
  },
  {
   "cell_type": "code",
   "execution_count": 45,
   "metadata": {},
   "outputs": [],
   "source": [
    "y_preds_os = best_dt.predict_proba(X_test_os)[:,1]"
   ]
  },
  {
   "cell_type": "code",
   "execution_count": 46,
   "metadata": {},
   "outputs": [],
   "source": [
    "output = pd.DataFrame({'Id' : df_test['Id'], 'WnvPresent':  y_preds_os})\n",
    "output.to_csv('../datasets/submission/dt_oversample_proba.csv',index = False )"
   ]
  },
  {
   "cell_type": "raw",
   "metadata": {},
   "source": [
    "Private Score: 0.59234\n",
    "Public Score: 0.62485"
   ]
  },
  {
   "cell_type": "markdown",
   "metadata": {},
   "source": [
    "### Random Forest"
   ]
  },
  {
   "cell_type": "code",
   "execution_count": 47,
   "metadata": {},
   "outputs": [],
   "source": [
    "best_rf = RandomForestClassifier(n_estimators = 140, max_features = 25, max_depth= 55)"
   ]
  },
  {
   "cell_type": "code",
   "execution_count": 48,
   "metadata": {},
   "outputs": [
    {
     "name": "stdout",
     "output_type": "stream",
     "text": [
      "Training Score: 0.9171\n"
     ]
    }
   ],
   "source": [
    "best_rf.fit(X_os, y_os)\n",
    "print('Training Score: {}'.format(round(best_rf.score(X_os, y_os), 4)))"
   ]
  },
  {
   "cell_type": "code",
   "execution_count": 49,
   "metadata": {},
   "outputs": [],
   "source": [
    "y_pred_os = best_rf.predict_proba(X_test_os)[:,1]"
   ]
  },
  {
   "cell_type": "code",
   "execution_count": 50,
   "metadata": {},
   "outputs": [],
   "source": [
    "output = pd.DataFrame({'Id': df_test['Id'], 'WnvPresent': y_pred_os})\n",
    "output.to_csv('../datasets/submission/rf_oversample_proba.csv', index=False)"
   ]
  },
  {
   "cell_type": "raw",
   "metadata": {},
   "source": [
    "Private Score : 0.63677\n",
    "Public Score : 0.65696"
   ]
  },
  {
   "cell_type": "markdown",
   "metadata": {},
   "source": [
    "### Ada Boost (Kaggle Best Model)"
   ]
  },
  {
   "cell_type": "code",
   "execution_count": 51,
   "metadata": {},
   "outputs": [],
   "source": [
    "best_ada = AdaBoostClassifier(learning_rate = 1.0, n_estimators = 100)"
   ]
  },
  {
   "cell_type": "code",
   "execution_count": 52,
   "metadata": {},
   "outputs": [
    {
     "name": "stdout",
     "output_type": "stream",
     "text": [
      "Training Score: 0.8602\n"
     ]
    }
   ],
   "source": [
    "best_ada.fit(X_os, y_os)\n",
    "print('Training Score: {}'.format(round(best_ada.score(X_os, y_os), 4)))"
   ]
  },
  {
   "cell_type": "code",
   "execution_count": 53,
   "metadata": {},
   "outputs": [],
   "source": [
    "y_pred_os = best_ada.predict_proba(X_test_os)[:,1]"
   ]
  },
  {
   "cell_type": "code",
   "execution_count": 54,
   "metadata": {},
   "outputs": [],
   "source": [
    "output = pd.DataFrame({'Id': df_test['Id'], 'WnvPresent': y_pred_os})\n",
    "output.to_csv('../datasets/submission/ada_oversample_proba.csv', index=False)"
   ]
  },
  {
   "cell_type": "raw",
   "metadata": {},
   "source": [
    "Private Score : 0.69296\n",
    "Pulic Score : 0.72243"
   ]
  },
  {
   "cell_type": "markdown",
   "metadata": {},
   "source": [
    "In our opinion, Ada Boost is the best model. We gather the required metrics for evaluation purpose and perform the evaluation in the next section"
   ]
  },
  {
   "cell_type": "markdown",
   "metadata": {},
   "source": [
    "#### Fit with Train/Test Split to Evaluate the Model"
   ]
  },
  {
   "cell_type": "code",
   "execution_count": 55,
   "metadata": {},
   "outputs": [],
   "source": [
    "def fit_and_test(best_feature, best_model, X_train, X_test, y_train, y_test):\n",
    "#     X_train_featured = best_feature.fit_transform(X_train)\n",
    "    X_test_featured = best_feature.transform(X_test)\n",
    "    best_model.fit(X_train, y_train)\n",
    "    train_score = cross_val_score(best_model, X_train, y_train, cv=10)\n",
    "    #train_score = best_model.score(X_train_featured, y_train)\n",
    "    test_score = best_model.score(X_test_featured, y_test)\n",
    "    features = pd.DataFrame(list(zip(X_test.columns, best_model.feature_importances_)), columns = ['Features', 'Importance'])\n",
    "    \n",
    "    predict = best_model.predict(X_test_featured)\n",
    "    report = classification_report(y_test, best_model.predict(X_test_featured))\n",
    "    con_matrix = confusion_matrix(y_test, predict)\n",
    "    tn, fp, fn, tp = confusion_matrix(y_test, predict).ravel()\n",
    "    probabilities = best_model.predict_proba(X_test_featured)\n",
    "    \n",
    "    \n",
    "    #print('{} features were selected'.format(len(selected_features)))\n",
    "    print('Cross Validated Mean Train Score is: {}'.format(train_score.mean()))\n",
    "    print('Test Score is: {}'.format(test_score))\n",
    "    \n",
    "   \n",
    "    return (features, predict, con_matrix, report, tn, fp, fn, tp, probabilities) "
   ]
  },
  {
   "cell_type": "code",
   "execution_count": 56,
   "metadata": {},
   "outputs": [
    {
     "name": "stdout",
     "output_type": "stream",
     "text": [
      "Cross Validated Mean Train Score is: 0.7559433714758532\n",
      "Test Score is: 0.8595345722417546\n"
     ]
    }
   ],
   "source": [
    "features, predict, con_matrix, report, tn, fp, fn, tp, probabilities = fit_and_test(ss, best_ada, X_os, X_val[top_feature_col], y_os, y_val)"
   ]
  },
  {
   "cell_type": "markdown",
   "metadata": {},
   "source": [
    "### Logistic Regression"
   ]
  },
  {
   "cell_type": "code",
   "execution_count": 57,
   "metadata": {},
   "outputs": [],
   "source": [
    "best_logit = LogisticRegression(C = 2, class_weight = 'balanced', penalty = 'l2' , solver='lbfgs')"
   ]
  },
  {
   "cell_type": "code",
   "execution_count": 58,
   "metadata": {},
   "outputs": [
    {
     "name": "stdout",
     "output_type": "stream",
     "text": [
      "Training Score: 0.735\n"
     ]
    }
   ],
   "source": [
    "best_logit.fit(X_os, y_os)\n",
    "print('Training Score: {}'.format(round(best_logit.score(X_os, y_os), 4)))"
   ]
  },
  {
   "cell_type": "code",
   "execution_count": 59,
   "metadata": {},
   "outputs": [],
   "source": [
    "y_pred_os = best_logit.predict_proba(X_test_os)[:,1]"
   ]
  },
  {
   "cell_type": "code",
   "execution_count": 60,
   "metadata": {},
   "outputs": [],
   "source": [
    "output = pd.DataFrame({'Id': df_test['Id'], 'WnvPresent': y_pred_os})\n",
    "output.to_csv('../datasets/submission/logit_oversample_proba.csv', index=False)"
   ]
  },
  {
   "cell_type": "raw",
   "metadata": {},
   "source": [
    "Private Score: 0.59244\n",
    "Public Score:0.62490"
   ]
  },
  {
   "cell_type": "markdown",
   "metadata": {},
   "source": [
    "# Kaggle Submission (Without Oversampling)"
   ]
  },
  {
   "cell_type": "markdown",
   "metadata": {},
   "source": [
    "We will also fit the model with the data that had not been oversampled and submit the predictions to kaggle to see if it makes a difference"
   ]
  },
  {
   "cell_type": "code",
   "execution_count": 61,
   "metadata": {},
   "outputs": [
    {
     "data": {
      "text/plain": [
       "((10506, 120), (10506,), (116293, 120))"
      ]
     },
     "execution_count": 61,
     "metadata": {},
     "output_type": "execute_result"
    }
   ],
   "source": [
    "X = df_train[top_feature_col]\n",
    "y = df_train['WnvPresent']\n",
    "X_test = df_test[top_feature_col]\n",
    "X.shape, y.shape, X_test.shape"
   ]
  },
  {
   "cell_type": "code",
   "execution_count": 62,
   "metadata": {},
   "outputs": [],
   "source": [
    "ss = StandardScaler()"
   ]
  },
  {
   "cell_type": "code",
   "execution_count": 63,
   "metadata": {},
   "outputs": [],
   "source": [
    "X = ss.fit_transform(X)\n",
    "X_test = ss.transform(X_test)"
   ]
  },
  {
   "cell_type": "markdown",
   "metadata": {},
   "source": [
    "### Decision Tree"
   ]
  },
  {
   "cell_type": "code",
   "execution_count": 64,
   "metadata": {},
   "outputs": [],
   "source": [
    "best_dt = DecisionTreeClassifier(max_depth = 10,\n",
    "                            min_samples_split = 5,\n",
    "                            min_samples_leaf = 2,\n",
    "                            random_state = 42)"
   ]
  },
  {
   "cell_type": "code",
   "execution_count": 65,
   "metadata": {},
   "outputs": [
    {
     "name": "stdout",
     "output_type": "stream",
     "text": [
      "Training Score: 0.9499\n"
     ]
    }
   ],
   "source": [
    "best_dt.fit(X, y)\n",
    "print('Training Score: {}'.format(round(best_dt.score(X, y), 4)))"
   ]
  },
  {
   "cell_type": "code",
   "execution_count": 66,
   "metadata": {},
   "outputs": [],
   "source": [
    "y_preds = best_dt.predict_proba(X_test)[:,1]"
   ]
  },
  {
   "cell_type": "code",
   "execution_count": 67,
   "metadata": {},
   "outputs": [],
   "source": [
    "output = pd.DataFrame({'Id' : df_test['Id'], 'WnvPresent':y_preds})\n",
    "output.to_csv('../datasets/submission/dt_proba.csv',index = False )"
   ]
  },
  {
   "cell_type": "raw",
   "metadata": {},
   "source": [
    "Private Score: 0.65411\n",
    "Public Score: 0.68192"
   ]
  },
  {
   "cell_type": "markdown",
   "metadata": {},
   "source": [
    "### Random Forest"
   ]
  },
  {
   "cell_type": "code",
   "execution_count": 68,
   "metadata": {},
   "outputs": [],
   "source": [
    "best_rf = RandomForestClassifier(n_estimators = 140, max_features = 25, max_depth= 55)"
   ]
  },
  {
   "cell_type": "code",
   "execution_count": 69,
   "metadata": {},
   "outputs": [
    {
     "name": "stdout",
     "output_type": "stream",
     "text": [
      "Training Score: 0.9566\n"
     ]
    }
   ],
   "source": [
    "best_rf.fit(X, y)\n",
    "print('Training Score: {}'.format(round(best_rf.score(X, y), 4)))"
   ]
  },
  {
   "cell_type": "code",
   "execution_count": 70,
   "metadata": {},
   "outputs": [],
   "source": [
    "# Predict X_test\n",
    "y_pred = best_rf.predict_proba(X_test)[:,1]"
   ]
  },
  {
   "cell_type": "code",
   "execution_count": 71,
   "metadata": {},
   "outputs": [],
   "source": [
    "#save test predictions to file for submission to kaggle\n",
    "output = pd.DataFrame({'Id': df_test['Id'], 'WnvPresent': y_pred})\n",
    "output.to_csv('../datasets/submission/rf_no_oversample.csv', index=False)"
   ]
  },
  {
   "cell_type": "raw",
   "metadata": {},
   "source": [
    "Private Score : 0.65163\n",
    "Public Score : 0.68256"
   ]
  },
  {
   "cell_type": "markdown",
   "metadata": {},
   "source": [
    "### Ada Boost"
   ]
  },
  {
   "cell_type": "code",
   "execution_count": 72,
   "metadata": {},
   "outputs": [],
   "source": [
    "best_ada = AdaBoostClassifier(learning_rate = 1.0, n_estimators = 100)"
   ]
  },
  {
   "cell_type": "code",
   "execution_count": 73,
   "metadata": {},
   "outputs": [
    {
     "name": "stdout",
     "output_type": "stream",
     "text": [
      "Training Score: 0.9476\n"
     ]
    }
   ],
   "source": [
    "best_ada.fit(X, y)\n",
    "print('Training Score: {}'.format(round(best_ada.score(X, y), 4)))"
   ]
  },
  {
   "cell_type": "code",
   "execution_count": 74,
   "metadata": {},
   "outputs": [],
   "source": [
    "# Predict X_test\n",
    "y_pred = best_ada.predict_proba(X_test)[:,1]"
   ]
  },
  {
   "cell_type": "code",
   "execution_count": 75,
   "metadata": {},
   "outputs": [],
   "source": [
    "#save test predictions to file for submission to kaggle\n",
    "output = pd.DataFrame({'Id': df_test['Id'], 'WnvPresent': y_pred})\n",
    "output.to_csv('../datasets/submission/submission_proba.csv', index=False)"
   ]
  },
  {
   "cell_type": "raw",
   "metadata": {},
   "source": [
    "Private Score: 0.67878\n",
    "Public Score: 0.68440"
   ]
  },
  {
   "cell_type": "markdown",
   "metadata": {},
   "source": [
    "### Logistic Regression"
   ]
  },
  {
   "cell_type": "code",
   "execution_count": 76,
   "metadata": {},
   "outputs": [],
   "source": [
    "best_logit = LogisticRegression(C = 1, class_weight = 'balanced', penalty = 'l2', solver = 'lbfgs')"
   ]
  },
  {
   "cell_type": "code",
   "execution_count": 77,
   "metadata": {},
   "outputs": [
    {
     "name": "stdout",
     "output_type": "stream",
     "text": [
      "Training Score: 0.6877\n"
     ]
    }
   ],
   "source": [
    "best_logit.fit(X, y)\n",
    "print('Training Score: {}'.format(round(best_logit.score(X, y), 4)))"
   ]
  },
  {
   "cell_type": "code",
   "execution_count": 78,
   "metadata": {},
   "outputs": [],
   "source": [
    "# Predict X_test\n",
    "y_pred = best_logit.predict_proba(X_test)[:,1]"
   ]
  },
  {
   "cell_type": "code",
   "execution_count": 79,
   "metadata": {},
   "outputs": [],
   "source": [
    "#save test predictions to file for submission to kaggle\n",
    "output = pd.DataFrame({'Id': df_test['Id'], 'WnvPresent': y_pred})\n",
    "output.to_csv('../datasets/submission/logit_no_oversample.csv', index=False)"
   ]
  },
  {
   "cell_type": "raw",
   "metadata": {},
   "source": [
    "Private Score: 0.60524\n",
    "Public Score: 0.64034"
   ]
  },
  {
   "cell_type": "markdown",
   "metadata": {},
   "source": [
    "# Model Evaluation (Ada Boost with Oversampling)"
   ]
  },
  {
   "cell_type": "code",
   "execution_count": 80,
   "metadata": {},
   "outputs": [
    {
     "data": {
      "image/png": "[encoded data removed]",
      "text/plain": [
       "<Figure size 864x432 with 1 Axes>"
      ]
     },
     "metadata": {
      "needs_background": "light"
     },
     "output_type": "display_data"
    }
   ],
   "source": [
    "features.sort_values(by = 'Importance', ascending = False).head(10).plot(kind = 'barh', x = 'Features', y = 'Importance', figsize = (12, 6));"
   ]
  },
  {
   "cell_type": "markdown",
   "metadata": {},
   "source": [
    "Here we can see that the top 10 features based on importance are Trap_T009, Trap_T158, Trap_T011, Station, Trap_T082, DewPoint_6dayb, WetBulb_3dayb, Species_Culex Pipien/Restuans, Sunrise."
   ]
  },
  {
   "cell_type": "code",
   "execution_count": 81,
   "metadata": {},
   "outputs": [
    {
     "data": {
      "text/html": [
       "<div>\n",
       "<style scoped>\n",
       "    .dataframe tbody tr th:only-of-type {\n",
       "        vertical-align: middle;\n",
       "    }\n",
       "\n",
       "    .dataframe tbody tr th {\n",
       "        vertical-align: top;\n",
       "    }\n",
       "\n",
       "    .dataframe thead th {\n",
       "        text-align: right;\n",
       "    }\n",
       "</style>\n",
       "<table border=\"1\" class=\"dataframe\">\n",
       "  <thead>\n",
       "    <tr style=\"text-align: right;\">\n",
       "      <th></th>\n",
       "      <th>pred No WNV</th>\n",
       "      <th>pred WNV</th>\n",
       "    </tr>\n",
       "  </thead>\n",
       "  <tbody>\n",
       "    <tr>\n",
       "      <th>actual No WNV</th>\n",
       "      <td>2407</td>\n",
       "      <td>576</td>\n",
       "    </tr>\n",
       "    <tr>\n",
       "      <th>actual WNV</th>\n",
       "      <td>263</td>\n",
       "      <td>2727</td>\n",
       "    </tr>\n",
       "  </tbody>\n",
       "</table>\n",
       "</div>"
      ],
      "text/plain": [
       "               pred No WNV  pred WNV\n",
       "actual No WNV         2407       576\n",
       "actual WNV             263      2727"
      ]
     },
     "execution_count": 81,
     "metadata": {},
     "output_type": "execute_result"
    }
   ],
   "source": [
    "cm_df = pd.DataFrame(con_matrix, columns=['pred No WNV', 'pred WNV'], index=['actual No WNV', 'actual WNV'])\n",
    "cm_df"
   ]
  },
  {
   "cell_type": "markdown",
   "metadata": {},
   "source": [
    "From the above, we can see that:\n",
    "\n",
    "- 2727 observations predicted positive are indeed positive\n",
    "- 2407 observations predicted negative are indeed negative\n",
    "- 576 observations predicted to be positive turned out to be negative\n",
    "- 263 observations predicted to be negative turned out to be positive\n",
    "\n",
    "We have 576 Type I error (False Positives)  \n",
    "We have 263 Type II error (False Negatives) "
   ]
  },
  {
   "cell_type": "code",
   "execution_count": 82,
   "metadata": {},
   "outputs": [
    {
     "name": "stdout",
     "output_type": "stream",
     "text": [
      "              precision    recall  f1-score   support\n",
      "\n",
      "           0       0.90      0.81      0.85      2983\n",
      "           1       0.83      0.91      0.87      2990\n",
      "\n",
      "    accuracy                           0.86      5973\n",
      "   macro avg       0.86      0.86      0.86      5973\n",
      "weighted avg       0.86      0.86      0.86      5973\n",
      "\n"
     ]
    }
   ],
   "source": [
    "print(report)"
   ]
  },
  {
   "cell_type": "markdown",
   "metadata": {},
   "source": [
    "From the confusion matrix and classification report, we can see that we have 576 false positive compared to 263 false negative. This model's precision is 83% while its recall is 91%.\n",
    "\n",
    "For our use case, we are looking for a model with lesser false negative and higher recall. The cost of predicting negative West Nile Virus when it turn out to be positive is higher compared to vice versa."
   ]
  },
  {
   "cell_type": "code",
   "execution_count": 83,
   "metadata": {},
   "outputs": [],
   "source": [
    "pred_proba = [i[1] for i in probabilities]\n",
    "\n",
    "pred_df = pd.DataFrame({'true_values': y_val,\n",
    "                        'pred_probs':pred_proba})"
   ]
  },
  {
   "cell_type": "code",
   "execution_count": 84,
   "metadata": {},
   "outputs": [
    {
     "data": {
      "image/png": "[encoded data removed]",
      "text/plain": [
       "<Figure size 720x504 with 1 Axes>"
      ]
     },
     "metadata": {
      "needs_background": "light"
     },
     "output_type": "display_data"
    }
   ],
   "source": [
    "# Create figure.\n",
    "plt.figure(figsize = (10,7))\n",
    "\n",
    "# Create two histograms of observations.\n",
    "plt.hist(pred_df[pred_df['true_values'] == 0]['pred_probs'],\n",
    "         bins=25,\n",
    "         color='blue',\n",
    "         alpha = 0.6,\n",
    "         label='Outcome = No WNV')\n",
    "plt.hist(pred_df[pred_df['true_values'] == 1]['pred_probs'],\n",
    "         bins=25,\n",
    "         color='red',\n",
    "         alpha = 0.6,\n",
    "         label='Outcome = WNV')\n",
    "\n",
    "# Add vertical line at P(Outcome = 1) = 0.5.\n",
    "plt.vlines(x=0.5,\n",
    "           ymin = 0,\n",
    "           ymax = 1000,\n",
    "           color='w',\n",
    "           linewidth = 3,\n",
    "           linestyle = '--')\n",
    "\n",
    "# Label axes.\n",
    "plt.title('Distribution of P(Outcome = Positive WNV)', fontsize=22)\n",
    "plt.ylabel('Frequency', fontsize=18)\n",
    "plt.xlabel('Predicted Probability that Outcome = Positive WNV', fontsize=18)\n",
    "\n",
    "# Create legend.\n",
    "plt.legend(fontsize=20);"
   ]
  },
  {
   "cell_type": "markdown",
   "metadata": {},
   "source": [
    "The above shows the distribution of the predicted probabilities. Colored in blue are the outcomes classified negative and red classified as positive. \n",
    "\n",
    "In a perfect model where every classification is correct, you will see that all the red will be to the right of the white line while all the blues will be to the left. \n",
    "\n",
    "We can see that there are misclassifications, the blues that are at the right of the red line and orange that are at the left. From the above, we can see that the ratio of misclassifications are low compared to the observations where the correct classifications are made."
   ]
  },
  {
   "cell_type": "code",
   "execution_count": 85,
   "metadata": {},
   "outputs": [
    {
     "data": {
      "image/png": "[encoded data removed]",
      "text/plain": [
       "<Figure size 720x504 with 1 Axes>"
      ]
     },
     "metadata": {
      "needs_background": "light"
     },
     "output_type": "display_data"
    }
   ],
   "source": [
    "# Create figure.\n",
    "plt.figure(figsize = (10,7))\n",
    "\n",
    "# Create threshold values. (Dashed red line in image.)\n",
    "thresholds = np.linspace(0, 1, 200)\n",
    "\n",
    "# Define function to calculate sensitivity. (True positive rate.)\n",
    "def TPR(df, true_col, pred_prob_col, threshold):\n",
    "    true_positive = df[(df[true_col] == 1) & (df[pred_prob_col] >= threshold)].shape[0]\n",
    "    false_negative = df[(df[true_col] == 1) & (df[pred_prob_col] < threshold)].shape[0]\n",
    "    return true_positive / (true_positive + false_negative)\n",
    "    \n",
    "\n",
    "# Define function to calculate 1 - specificity. (False positive rate.)\n",
    "def FPR(df, true_col, pred_prob_col, threshold):\n",
    "    true_negative = df[(df[true_col] == 0) & (df[pred_prob_col] <= threshold)].shape[0]\n",
    "    false_positive = df[(df[true_col] == 0) & (df[pred_prob_col] > threshold)].shape[0]\n",
    "    return 1 - (true_negative / (true_negative + false_positive))\n",
    "    \n",
    "# Calculate sensitivity & 1-specificity for each threshold between 0 and 1.\n",
    "tpr_values = [TPR(pred_df, 'true_values', 'pred_probs', prob) for prob in thresholds]\n",
    "fpr_values = [FPR(pred_df, 'true_values', 'pred_probs', prob) for prob in thresholds]\n",
    "\n",
    "# Plot ROC curve.\n",
    "plt.plot(fpr_values, # False Positive Rate on X-axis\n",
    "         tpr_values, # True Positive Rate on Y-axis\n",
    "         label='ROC Curve')\n",
    "\n",
    "# Plot baseline. (Perfect overlap between the two populations.)\n",
    "plt.plot(np.linspace(0, 1, 200),\n",
    "         np.linspace(0, 1, 200),\n",
    "         label='baseline',\n",
    "         linestyle='--')\n",
    "\n",
    "# Label axes.\n",
    "plt.title(f'ROC Curve with AUC = {round(roc_auc_score(pred_df[\"true_values\"], pred_df[\"pred_probs\"]),3)}', fontsize=22)\n",
    "plt.ylabel('Sensitivity', fontsize=18)\n",
    "plt.xlabel('1 - Specificity', fontsize=18)\n",
    "\n",
    "# Create legend.\n",
    "plt.legend(fontsize=16);"
   ]
  },
  {
   "cell_type": "markdown",
   "metadata": {},
   "source": [
    "From the above we can see that our ROC AUC is 0.939. we can see that our model is doing quite well, although improvements can be made for better classifications."
   ]
  },
  {
   "cell_type": "markdown",
   "metadata": {},
   "source": [
    "# Cost Benefit Analysis"
   ]
  },
  {
   "cell_type": "code",
   "execution_count": 86,
   "metadata": {},
   "outputs": [],
   "source": [
    "spray = pd.read_csv('../datasets/clean/spray_clean.csv')\n",
    "train = pd.read_csv('../datasets/clean/train_final.csv')"
   ]
  },
  {
   "cell_type": "code",
   "execution_count": 87,
   "metadata": {},
   "outputs": [],
   "source": [
    "spray['Date'] = pd.to_datetime(spray['Date'])\n",
    "train['Date'] = pd.to_datetime(train['Date'])"
   ]
  },
  {
   "cell_type": "code",
   "execution_count": 88,
   "metadata": {},
   "outputs": [],
   "source": [
    "spray['year'] = spray['Date'].dt.year\n",
    "spray['month'] = spray['Date'].dt.month\n",
    "spray['week'] = spray['Date'].dt.week\n",
    "train['year'] = train['Date'].dt.year\n",
    "train['month'] = train['Date'].dt.month\n",
    "train['week'] = train['Date'].dt.week"
   ]
  },
  {
   "cell_type": "code",
   "execution_count": 89,
   "metadata": {},
   "outputs": [],
   "source": [
    "def draw_countplot(df, x, title, xlabel = None, ylabel = 'Number of Observations', hue = 'WnvPresent', loc = 'upper right', annot = True):\n",
    "    fig, ax = plt.subplots(figsize=(18, 8))\n",
    "    sns.set_style(\"white\")\n",
    "    sns.countplot(x = x, hue = hue, data = df, dodge = True, palette = ['blue', 'red'])\n",
    "    ax.set_title(title, fontsize = 20)\n",
    "    ax.set_ylabel(ylabel, fontsize = 20)\n",
    "    ax.set_xlabel(xlabel, fontsize = 20)\n",
    "    legend = plt.legend(loc = loc)\n",
    "    legend.get_texts()[0].set_text('West Nile Virus Not Detected')\n",
    "    legend.get_texts()[1].set_text('West Nile Virus Detected')\n",
    "    \n",
    "    if annot == True:\n",
    "        for p in ax.patches:\n",
    "            ax.annotate(format(p.get_height()), (p.get_x() + p.get_width() / 2, p.get_height()), \n",
    "                        ha = 'center', va = 'center', xytext = (0, 10), textcoords = 'offset points', size = 10)"
   ]
  },
  {
   "cell_type": "code",
   "execution_count": 90,
   "metadata": {},
   "outputs": [
    {
     "data": {
      "image/png": "[encoded data removed]",
      "text/plain": [
       "<Figure size 864x432 with 1 Axes>"
      ]
     },
     "metadata": {
      "needs_background": "light"
     },
     "output_type": "display_data"
    }
   ],
   "source": [
    "train[train['year'] == 2013].groupby(['week'])['NumMosquitos'].sum().plot(kind = 'bar', title = 'Total Mosquitoes for Year 2013 by week', figsize = (12, 6));"
   ]
  },
  {
   "cell_type": "markdown",
   "metadata": {},
   "source": []
  },
  {
   "cell_type": "code",
   "execution_count": 91,
   "metadata": {},
   "outputs": [
    {
     "data": {
      "image/png": "[encoded data removed]",
      "text/plain": [
       "<Figure size 864x432 with 1 Axes>"
      ]
     },
     "metadata": {
      "needs_background": "light"
     },
     "output_type": "display_data"
    }
   ],
   "source": [
    "train[train['year'] == 2011].groupby(['week'])['NumMosquitos'].sum().plot(kind = 'bar', title = 'Total Mosquitoes for Year 2011 by week', figsize = (12, 6));"
   ]
  },
  {
   "cell_type": "code",
   "execution_count": 92,
   "metadata": {},
   "outputs": [
    {
     "data": {
      "text/html": [
       "<div>\n",
       "<style scoped>\n",
       "    .dataframe tbody tr th:only-of-type {\n",
       "        vertical-align: middle;\n",
       "    }\n",
       "\n",
       "    .dataframe tbody tr th {\n",
       "        vertical-align: top;\n",
       "    }\n",
       "\n",
       "    .dataframe thead th {\n",
       "        text-align: right;\n",
       "    }\n",
       "</style>\n",
       "<table border=\"1\" class=\"dataframe\">\n",
       "  <thead>\n",
       "    <tr style=\"text-align: right;\">\n",
       "      <th></th>\n",
       "      <th>Date</th>\n",
       "      <th>Time</th>\n",
       "      <th>Latitude</th>\n",
       "      <th>Longitude</th>\n",
       "      <th>year</th>\n",
       "      <th>month</th>\n",
       "      <th>week</th>\n",
       "    </tr>\n",
       "  </thead>\n",
       "  <tbody>\n",
       "    <tr>\n",
       "      <th>2209</th>\n",
       "      <td>2013-07-17</td>\n",
       "      <td>19:45:45</td>\n",
       "      <td>41.997728</td>\n",
       "      <td>-87.767532</td>\n",
       "      <td>2013</td>\n",
       "      <td>7</td>\n",
       "      <td>29</td>\n",
       "    </tr>\n",
       "    <tr>\n",
       "      <th>2210</th>\n",
       "      <td>2013-07-17</td>\n",
       "      <td>19:45:55</td>\n",
       "      <td>41.997990</td>\n",
       "      <td>-87.768085</td>\n",
       "      <td>2013</td>\n",
       "      <td>7</td>\n",
       "      <td>29</td>\n",
       "    </tr>\n",
       "    <tr>\n",
       "      <th>2211</th>\n",
       "      <td>2013-07-17</td>\n",
       "      <td>19:46:05</td>\n",
       "      <td>41.998237</td>\n",
       "      <td>-87.768623</td>\n",
       "      <td>2013</td>\n",
       "      <td>7</td>\n",
       "      <td>29</td>\n",
       "    </tr>\n",
       "    <tr>\n",
       "      <th>2212</th>\n",
       "      <td>2013-07-17</td>\n",
       "      <td>19:46:15</td>\n",
       "      <td>41.998510</td>\n",
       "      <td>-87.769225</td>\n",
       "      <td>2013</td>\n",
       "      <td>7</td>\n",
       "      <td>29</td>\n",
       "    </tr>\n",
       "    <tr>\n",
       "      <th>2213</th>\n",
       "      <td>2013-07-17</td>\n",
       "      <td>19:46:25</td>\n",
       "      <td>41.998793</td>\n",
       "      <td>-87.769833</td>\n",
       "      <td>2013</td>\n",
       "      <td>7</td>\n",
       "      <td>29</td>\n",
       "    </tr>\n",
       "  </tbody>\n",
       "</table>\n",
       "</div>"
      ],
      "text/plain": [
       "           Date      Time   Latitude  Longitude  year  month  week\n",
       "2209 2013-07-17  19:45:45  41.997728 -87.767532  2013      7    29\n",
       "2210 2013-07-17  19:45:55  41.997990 -87.768085  2013      7    29\n",
       "2211 2013-07-17  19:46:05  41.998237 -87.768623  2013      7    29\n",
       "2212 2013-07-17  19:46:15  41.998510 -87.769225  2013      7    29\n",
       "2213 2013-07-17  19:46:25  41.998793 -87.769833  2013      7    29"
      ]
     },
     "execution_count": 92,
     "metadata": {},
     "output_type": "execute_result"
    }
   ],
   "source": [
    "spray[(spray['year']== 2013) & (spray['week']== 29)].head()"
   ]
  },
  {
   "cell_type": "markdown",
   "metadata": {},
   "source": [
    "A spray was performed on week 29 in 2013, and we can see that the population of mosquitos decreased after the spray. \n",
    "\n",
    "Most people who become infected with West Nile virus have mild symptoms Typically less than 1% develop severe neroinvasive disease, according to CDC.\n",
    "\n",
    "We can look into the cost of each spraying session and determine if the costs covers the risks or consider other alternative"
   ]
  },
  {
   "cell_type": "markdown",
   "metadata": {},
   "source": [
    "# Conclusion"
   ]
  },
  {
   "cell_type": "markdown",
   "metadata": {},
   "source": [
    "In this project, we seleced the model which has higher recall and less false negative. The cost of predicting a negative observation which turns out to be positive is higher when life is involved.\n",
    "\n",
    "For the next iteration we can take data about birds species known to carry West Nile Virus as birds are also a factor that comes into play.  \n",
    "\n",
    "Most people who become infected with West Nile Virus has mild flu like symptoms and typically less than 1% develop severe neroinvasive disease according to CDC\n",
    "\n",
    "It is subjective to determine the ROI or perform a cost benefit anaysis when life is involve as you can not put a value to life and there are different school of thoughts. We can look into how much it costs the state during each spraying session and determine if the risks is worth the expenditure. We can also consider other alternative instead of spraying during peak seasons to mitigate the risks and only perform spraying when it is absolutely necessary."
   ]
  }
 ],
 "metadata": {
  "kernelspec": {
   "display_name": "Python 3",
   "language": "python",
   "name": "python3"
  },
  "language_info": {
   "codemirror_mode": {
    "name": "ipython",
    "version": 3
   },
   "file_extension": ".py",
   "mimetype": "text/x-python",
   "name": "python",
   "nbconvert_exporter": "python",
   "pygments_lexer": "ipython3",
   "version": "3.7.3"
  },
  "toc": {
   "base_numbering": 1,
   "nav_menu": {},
   "number_sections": true,
   "sideBar": true,
   "skip_h1_title": false,
   "title_cell": "Table of Contents",
   "title_sidebar": "Contents",
   "toc_cell": false,
   "toc_position": {},
   "toc_section_display": true,
   "toc_window_display": false
  }
 },
 "nbformat": 4,
 "nbformat_minor": 2
}
